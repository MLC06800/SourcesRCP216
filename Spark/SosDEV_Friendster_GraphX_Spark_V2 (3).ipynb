{
 "cells": [
  {
   "cell_type": "markdown",
   "metadata": {
    "kernel": "SoS"
   },
   "source": [
    "# *_FRIENDSTER - Social Network_*"
   ]
  },
  {
   "cell_type": "code",
   "execution_count": 1,
   "metadata": {
    "kernel": "apache_toree_pyspark"
   },
   "outputs": [],
   "source": [
    "from pyspark import SparkContext, SparkConf\n",
    "from pyspark.sql import SQLContext\n",
    "from pyspark.sql.types import *\n",
    "from pyspark.sql import functions as F\n",
    "from pyspark.sql import Row\n",
    "import re"
   ]
  },
  {
   "cell_type": "code",
   "execution_count": 2,
   "metadata": {
    "kernel": "apache_toree_pyspark"
   },
   "outputs": [
    {
     "data": {
      "text/plain": [
       "[('spark.repl.class.uri', 'spark://192.168.254.21:45603/classes'), ('spark.driver.port', '45603'), ('spark.repl.class.outputDir', '/tmp/spark-a21ea0a8-383b-4b02-803d-580e77b19be2/repl-4ef1050e-cd21-4108-a86e-6b8abcd9660f'), ('spark.jars', 'file:/usr/local/share/jupyter/kernels/apache_toree_pyspark/lib/toree-assembly-0.2.0.dev1-incubating-SNAPSHOT.jar'), ('spark.app.id', 'local-1531902303212'), ('spark.master', 'local[*]'), ('spark.executor.id', 'driver'), ('spark.submit.deployMode', 'client'), ('spark.app.name', 'Apache Toree'), ('spark.driver.host', '192.168.254.21')]"
      ]
     },
     "execution_count": 2,
     "metadata": {},
     "output_type": "execute_result"
    }
   ],
   "source": [
    "sc.getConf().getAll()"
   ]
  },
  {
   "cell_type": "code",
   "execution_count": 3,
   "metadata": {
    "kernel": "apache_toree_pyspark"
   },
   "outputs": [],
   "source": [
    "conf = SparkConf().setAll([('spark.app.name', 'Friendster-mapreduce-by-key'),(\"spark.dynamicAllocation.enabled\", \"true\"),(\"spark.dynamicAllocation.minExecutors\", 1), (\"spark.dynamicAllocation.maxExecutors\", 5), (\"spark.shuffle.service.enabled\", \"true\") ])\n",
    "sc.stop()\n",
    "sc = SparkContext(conf=conf)"
   ]
  },
  {
   "cell_type": "code",
   "execution_count": 4,
   "metadata": {
    "kernel": "apache_toree_pyspark"
   },
   "outputs": [
    {
     "data": {
      "text/plain": [
       "[('spark.repl.class.uri', 'spark://192.168.254.21:35408/classes'), ('spark.driver.port', '35408'), ('spark.dynamicAllocation.minExecutors', '1'), ('spark.shuffle.service.enabled', 'true'), ('spark.jars', 'file:/usr/local/share/jupyter/kernels/apache_toree_pyspark/lib/toree-assembly-0.2.0.dev1-incubating-SNAPSHOT.jar'), ('spark.executor.id', 'driver'), ('spark.dynamicAllocation.maxExecutors', '5'), ('spark.app.name', 'Friendster-mapreduce-by-key'), ('spark.repl.class.outputDir', '/tmp/spark-a21ea0a8-383b-4b02-803d-580e77b19be2/repl-4ef1050e-cd21-4108-a86e-6b8abcd9660f'), ('spark.app.id', 'local-1531902309450'), ('spark.rdd.compress', 'True'), ('spark.serializer.objectStreamReset', '100'), ('spark.master', 'local[*]'), ('spark.submit.deployMode', 'client'), ('spark.dynamicAllocation.enabled', 'true'), ('spark.driver.host', '192.168.254.21')]"
      ]
     },
     "execution_count": 4,
     "metadata": {},
     "output_type": "execute_result"
    }
   ],
   "source": [
    "sc.getConf().getAll()"
   ]
  },
  {
   "cell_type": "code",
   "execution_count": 5,
   "metadata": {
    "kernel": "apache_toree_pyspark"
   },
   "outputs": [
    {
     "data": {
      "text/plain": [
       "<SparkContext master=local[*] appName=Friendster-mapreduce-by-key>"
      ]
     },
     "execution_count": 5,
     "metadata": {},
     "output_type": "execute_result"
    }
   ],
   "source": [
    "sc"
   ]
  },
  {
   "cell_type": "code",
   "execution_count": 6,
   "metadata": {
    "kernel": "apache_toree_scala"
   },
   "outputs": [],
   "source": [
    "import org.apache.spark._\n",
    "import org.apache.spark.graphx._\n",
    "import org.apache.spark.rdd.RDD"
   ]
  },
  {
   "cell_type": "markdown",
   "metadata": {
    "kernel": "apache_toree_scala"
   },
   "source": [
    "# Création du graphe "
   ]
  },
  {
   "cell_type": "markdown",
   "metadata": {
    "kernel": "apache_toree_scala"
   },
   "source": [
    "> **Hypothèse : ** Les liens entre les utilisateurs sont des liens \n",
    "    orientés entre utilisateur influant et le suiveur\n",
    "    "
   ]
  },
  {
   "cell_type": "code",
   "execution_count": 7,
   "metadata": {
    "kernel": "apache_toree_scala"
   },
   "outputs": [],
   "source": [
    "import org.apache.spark.graphx.GraphLoader\n",
    "//quelques aretes sont définies dans les 2 sens \n",
    "val users = (sc.textFile(\"/home/pb19121/datagraphx/WITH_ATT_NODES.csv\")\n",
    "  .map(line => line.split(\",\")).map( x => (x.head.toLong, x.tail)))"
   ]
  },
  {
   "cell_type": "code",
   "execution_count": 8,
   "metadata": {
    "kernel": "apache_toree_scala"
   },
   "outputs": [],
   "source": [
    "// Parse the edge data which is already in userId -> userId format\n",
    "val followerGraph = GraphLoader.edgeListFile(sc, \"/home/pb19121/datagraphx/friendsterfollowers.txt\")"
   ]
  },
  {
   "cell_type": "code",
   "execution_count": 9,
   "metadata": {
    "kernel": "apache_toree_scala"
   },
   "outputs": [],
   "source": [
    "//# Attach the user attributes\n",
    "val graph = followerGraph.outerJoinVertices(users) {\n",
    "  case (uid, deg, Some(attrList)) => attrList\n",
    " // # Some users may not have attributes so we set them as empty\n",
    "  case (uid, deg, None) => Array.empty[String]\n",
    "}"
   ]
  },
  {
   "cell_type": "code",
   "execution_count": 10,
   "metadata": {
    "kernel": "apache_toree_scala"
   },
   "outputs": [],
   "source": [
    "//Ajouter les attributs à partir des calculs de degres, indegree et outdegree dans le fichiers des users\n",
    "import org.apache.spark.graphx.GraphLoader\n",
    "\n",
    "val users = (sc.textFile(\"/home/pb19121/datagraphx/friendsterusers.txt\")\n",
    "  .map(line => line.split(\",\")).map( parts => (parts.head.toLong, parts.tail) ))\n",
    "\n",
    "// Parse the edge data which is already in userId -> userId format\n",
    "val edgesGraph = GraphLoader.edgeListFile(sc, \"/home/pb19121/datagraphx/friendsterfollowers.txt\")\n",
    "\n",
    "//# Attach the user attributes\n",
    "val graph = edgesGraph.outerJoinVertices(users) {\n",
    "  case (uid, deg, Some(attrList)) => attrList\n",
    " // # Some users may not have attributes so we set them as empty\n",
    "  case (uid, deg, None) => Array.empty[String]\n",
    "}"
   ]
  },
  {
   "cell_type": "code",
   "execution_count": 11,
   "metadata": {
    "kernel": "apache_toree_scala"
   },
   "outputs": [
    {
     "data": {
      "text/plain": [
       "org.apache.spark.graphx.impl.GraphImpl@7c8cdd50"
      ]
     },
     "execution_count": 11,
     "metadata": {},
     "output_type": "execute_result"
    }
   ],
   "source": [
    "graph"
   ]
  },
  {
   "cell_type": "code",
   "execution_count": 12,
   "metadata": {
    "kernel": "apache_toree_scala"
   },
   "outputs": [],
   "source": [
    "// Restrict the graph to users with usernames and names\n",
    "val subgraph = graph.subgraph(vpred = (vid, attr) => attr.size == 2)\n",
    "\n",
    "\n",
    "// Compute the PageRank\n",
    "val pagerankGraph = subgraph.pageRank(0.001)\n",
    "\n",
    "// Get the attributes of the top pagerank users\n",
    "val userInfoWithPageRank = subgraph.outerJoinVertices(pagerankGraph.vertices) {\n",
    "  case (uid, attrList, Some(pr)) => (pr, attrList.toList)\n",
    "  case (uid, attrList, None) => (0.0, attrList.toList)\n",
    "}"
   ]
  },
  {
   "cell_type": "code",
   "execution_count": 13,
   "metadata": {
    "kernel": "apache_toree_scala"
   },
   "outputs": [
    {
     "name": "stdout",
     "output_type": "stream",
     "text": [
      "(1,(8019.989012755636,List(N1, n1)))\n",
      "(2,(3473.697419631351,List(N2, n2)))\n",
      "(82,(1691.8315267036721,List(N82, n82)))\n",
      "(11,(1038.692904959271,List(N11, n11)))\n",
      "(3,(1033.6143079036847,List(N3, n3)))\n",
      "(13,(920.921867922792,List(N13, n13)))\n",
      "(4,(670.6766422815854,List(N4, n4)))\n",
      "(54,(648.4665619563988,List(N54, n54)))\n",
      "(5,(546.9728220426837,List(N5, n5)))\n",
      "(20,(540.7584562672422,List(N20, n20)))\n"
     ]
    }
   ],
   "source": [
    "println(userInfoWithPageRank.vertices.top(10)(Ordering.by(_._2._1)).mkString(\"\\n\"))"
   ]
  },
  {
   "cell_type": "code",
   "execution_count": 14,
   "metadata": {
    "kernel": "apache_toree_scala"
   },
   "outputs": [],
   "source": [
    "// Get the degree of users\n",
    "val userInfoWithDegree = subgraph.outerJoinVertices(userInfoWithPageRank.degrees) {\n",
    "  case (uid,attrList,   Some(y)) => ( y)\n",
    "  case (uid,attrList,  None) => (0)\n",
    "}"
   ]
  },
  {
   "cell_type": "code",
   "execution_count": 15,
   "metadata": {
    "kernel": "apache_toree_scala"
   },
   "outputs": [
    {
     "name": "stdout",
     "output_type": "stream",
     "text": [
      "(3687,621)\n",
      "(3552,592)\n",
      "(3570,592)\n",
      "(3553,548)\n",
      "(82,517)\n",
      "(3542,505)\n",
      "(212,502)\n",
      "(3674,446)\n",
      "(2680,439)\n",
      "(3651,428)\n"
     ]
    }
   ],
   "source": [
    "// Get the degree of users\n",
    "println(userInfoWithDegree.vertices.top(10)(Ordering.by(_._2)).mkString(\"\\n\"))"
   ]
  },
  {
   "cell_type": "markdown",
   "metadata": {
    "kernel": "apache_toree_scala"
   },
   "source": [
    "# Distribution de degrés"
   ]
  },
  {
   "cell_type": "code",
   "execution_count": 17,
   "metadata": {
    "kernel": "apache_toree_scala"
   },
   "outputs": [],
   "source": [
    "// Define a reduce operation to compute the highest degree vertex\n",
    "def max(a: (VertexId, Int), b: (VertexId, Int)): (VertexId, Int) = {\n",
    "  if (a._2 > b._2) a else b\n",
    "}\n",
    "// Compute the max degrees\n",
    "val maxInDegree: (VertexId, Int)  = graph.inDegrees.reduce(max)\n",
    "val maxOutDegree: (VertexId, Int) = graph.outDegrees.reduce(max)\n",
    "val maxDegrees: (VertexId, Int)   = graph.degrees.reduce(max)"
   ]
  },
  {
   "cell_type": "code",
   "execution_count": 18,
   "metadata": {
    "kernel": "apache_toree_scala"
   },
   "outputs": [
    {
     "name": "stdout",
     "output_type": "stream",
     "text": [
      " max indegree : "
     ]
    },
    {
     "data": {
      "text/plain": [
       "(3687,620)"
      ]
     },
     "execution_count": 18,
     "metadata": {},
     "output_type": "execute_result"
    }
   ],
   "source": [
    "print (\" max indegree : \")\n",
    "maxInDegree"
   ]
  },
  {
   "cell_type": "code",
   "execution_count": 19,
   "metadata": {
    "kernel": "apache_toree_scala"
   },
   "outputs": [
    {
     "name": "stdout",
     "output_type": "stream",
     "text": [
      " max outdegree : "
     ]
    },
    {
     "data": {
      "text/plain": [
       "(111058,165)"
      ]
     },
     "execution_count": 19,
     "metadata": {},
     "output_type": "execute_result"
    }
   ],
   "source": [
    "print (\" max outdegree : \")\n",
    "maxOutDegree"
   ]
  },
  {
   "cell_type": "code",
   "execution_count": 20,
   "metadata": {
    "kernel": "apache_toree_scala"
   },
   "outputs": [
    {
     "name": "stdout",
     "output_type": "stream",
     "text": [
      " max degree : "
     ]
    },
    {
     "data": {
      "text/plain": [
       "(3687,621)"
      ]
     },
     "execution_count": 20,
     "metadata": {},
     "output_type": "execute_result"
    }
   ],
   "source": [
    "print (\" max degree : \")\n",
    "maxDegrees"
   ]
  },
  {
   "cell_type": "code",
   "execution_count": 21,
   "metadata": {
    "kernel": "apache_toree_scala"
   },
   "outputs": [],
   "source": [
    "val degrees: VertexRDD[Int] = graph.degrees"
   ]
  },
  {
   "cell_type": "code",
   "execution_count": 22,
   "metadata": {
    "kernel": "apache_toree_scala"
   },
   "outputs": [
    {
     "name": "stdout",
     "output_type": "stream",
     "text": [
      "(108150,3)\n",
      "(129434,5)\n",
      "(91902,16)\n",
      "(68522,14)\n",
      "(23776,4)\n"
     ]
    }
   ],
   "source": [
    "degrees.take(5).foreach(println)"
   ]
  },
  {
   "cell_type": "code",
   "execution_count": 23,
   "metadata": {
    "kernel": "apache_toree_scala"
   },
   "outputs": [],
   "source": [
    "val indegrees: VertexRDD[Int] = graph.inDegrees"
   ]
  },
  {
   "cell_type": "code",
   "execution_count": 24,
   "metadata": {
    "kernel": "apache_toree_scala"
   },
   "outputs": [],
   "source": [
    "val outdegrees: VertexRDD[Int] = graph.outDegrees"
   ]
  },
  {
   "cell_type": "code",
   "execution_count": 25,
   "metadata": {
    "kernel": "apache_toree_scala"
   },
   "outputs": [
    {
     "data": {
      "text/plain": [
       "(count: 100199, mean: 69079.757972, stdev: 41109.577764, max: 151837.000000, min: 1.000000)"
      ]
     },
     "execution_count": 25,
     "metadata": {},
     "output_type": "execute_result"
    }
   ],
   "source": [
    "degrees.map(_._1).stats()"
   ]
  },
  {
   "cell_type": "code",
   "execution_count": 26,
   "metadata": {
    "kernel": "apache_toree_scala"
   },
   "outputs": [
    {
     "data": {
      "text/plain": [
       "(count: 79262, mean: 63332.714163, stdev: 39503.759873, max: 151820.000000, min: 1.000000)"
      ]
     },
     "execution_count": 26,
     "metadata": {},
     "output_type": "execute_result"
    }
   ],
   "source": [
    "indegrees.map(_._1).stats()"
   ]
  },
  {
   "cell_type": "code",
   "execution_count": 27,
   "metadata": {
    "kernel": "apache_toree_scala"
   },
   "outputs": [
    {
     "data": {
      "text/plain": [
       "(count: 100198, mean: 69080.447394, stdev: 41109.203660, max: 151837.000000, min: 2.000000)"
      ]
     },
     "execution_count": 27,
     "metadata": {},
     "output_type": "execute_result"
    }
   ],
   "source": [
    "outdegrees.map(_._1).stats()"
   ]
  },
  {
   "cell_type": "code",
   "execution_count": 28,
   "metadata": {
    "kernel": "apache_toree_scala"
   },
   "outputs": [
    {
     "data": {
      "text/plain": [
       "(count: 100199, mean: 19.599397, stdev: 24.609730, max: 621.000000, min: 1.000000)"
      ]
     },
     "execution_count": 28,
     "metadata": {},
     "output_type": "execute_result"
    }
   ],
   "source": [
    "degrees.map(_._2).stats()"
   ]
  },
  {
   "cell_type": "code",
   "execution_count": 29,
   "metadata": {
    "kernel": "apache_toree_scala"
   },
   "outputs": [
    {
     "data": {
      "text/plain": [
       "(count: 79262, mean: 12.388282, stdev: 20.920199, max: 620.000000, min: 1.000000)"
      ]
     },
     "execution_count": 29,
     "metadata": {},
     "output_type": "execute_result"
    }
   ],
   "source": [
    "indegrees.map(_._2).stats()"
   ]
  },
  {
   "cell_type": "code",
   "execution_count": 30,
   "metadata": {
    "kernel": "apache_toree_scala"
   },
   "outputs": [
    {
     "data": {
      "text/plain": [
       "(count: 100198, mean: 9.799796, stdev: 11.073388, max: 165.000000, min: 1.000000)"
      ]
     },
     "execution_count": 30,
     "metadata": {},
     "output_type": "execute_result"
    }
   ],
   "source": [
    "outdegrees.map(_._2).stats()"
   ]
  },
  {
   "cell_type": "markdown",
   "metadata": {
    "kernel": "apache_toree_scala"
   },
   "source": [
    "# Coeficient de clustering : "
   ]
  },
  {
   "cell_type": "code",
   "execution_count": 31,
   "metadata": {
    "kernel": "apache_toree_scala"
   },
   "outputs": [],
   "source": [
    "val triplets = graph.triplets"
   ]
  },
  {
   "cell_type": "code",
   "execution_count": 32,
   "metadata": {
    "kernel": "apache_toree_scala"
   },
   "outputs": [
    {
     "data": {
      "text/plain": [
       "981920"
      ]
     },
     "execution_count": 32,
     "metadata": {},
     "output_type": "execute_result"
    }
   ],
   "source": [
    "triplets.count()"
   ]
  },
  {
   "cell_type": "code",
   "execution_count": 33,
   "metadata": {
    "kernel": "apache_toree_scala"
   },
   "outputs": [
    {
     "name": "stdout",
     "output_type": "stream",
     "text": [
      "((2,[Ljava.lang.String;@1ca2e0ca),(1,[Ljava.lang.String;@521260d0),1)\n",
      "((3,[Ljava.lang.String;@412d7f4d),(1,[Ljava.lang.String;@521260d0),1)\n",
      "((4,[Ljava.lang.String;@5045ee6a),(1,[Ljava.lang.String;@521260d0),1)\n",
      "((4,[Ljava.lang.String;@5045ee6a),(2,[Ljava.lang.String;@1ca2e0ca),1)\n",
      "((5,[Ljava.lang.String;@5b6ae018),(1,[Ljava.lang.String;@521260d0),1)\n"
     ]
    }
   ],
   "source": [
    "triplets.take(5).foreach(println)"
   ]
  },
  {
   "cell_type": "code",
   "execution_count": 34,
   "metadata": {
    "kernel": "apache_toree_scala"
   },
   "outputs": [],
   "source": [
    "val triCounts = graph.triangleCount()"
   ]
  },
  {
   "cell_type": "code",
   "execution_count": 35,
   "metadata": {
    "kernel": "apache_toree_scala"
   },
   "outputs": [
    {
     "data": {
      "text/plain": [
       "(count: 100199, mean: 63.479735, stdev: 140.725195, max: 4142.000000, min: 0.000000)"
      ]
     },
     "execution_count": 35,
     "metadata": {},
     "output_type": "execute_result"
    }
   ],
   "source": [
    "triCounts.vertices.map(x => x._2).stats()"
   ]
  },
  {
   "cell_type": "code",
   "execution_count": 36,
   "metadata": {
    "kernel": "apache_toree_scala"
   },
   "outputs": [],
   "source": [
    "val maxTrisGraph = triCounts.degrees.mapValues(d => d * (d - 1) / 2.0)"
   ]
  },
  {
   "cell_type": "code",
   "execution_count": 37,
   "metadata": {
    "kernel": "apache_toree_scala"
   },
   "outputs": [
    {
     "data": {
      "text/plain": [
       "VertexRDDImpl[555] at RDD at VertexRDD.scala:57"
      ]
     },
     "execution_count": 37,
     "metadata": {},
     "output_type": "execute_result"
    }
   ],
   "source": [
    "maxTrisGraph"
   ]
  },
  {
   "cell_type": "code",
   "execution_count": 38,
   "metadata": {
    "kernel": "apache_toree_scala"
   },
   "outputs": [],
   "source": [
    "val clusterCoefGraph = triCounts.vertices.innerJoin(maxTrisGraph) {\n",
    "  (vertexId, triCount, maxTris) => {\n",
    "    if (maxTris == 0) 0\n",
    "    else triCount / maxTris\n",
    "  }\n",
    "}"
   ]
  },
  {
   "cell_type": "code",
   "execution_count": 39,
   "metadata": {
    "kernel": "apache_toree_scala"
   },
   "outputs": [
    {
     "data": {
      "text/plain": [
       "0.2672521165006904"
      ]
     },
     "execution_count": 39,
     "metadata": {},
     "output_type": "execute_result"
    }
   ],
   "source": [
    "clusterCoefGraph.map(_._2).sum() / triCounts.vertices.count()"
   ]
  },
  {
   "cell_type": "markdown",
   "metadata": {
    "kernel": "apache_toree_scala"
   },
   "source": [
    "> **Notes : **\n",
    "- on obtient 26% caractéristique des réseaux de petits mondes\n",
    "\n"
   ]
  },
  {
   "cell_type": "code",
   "execution_count": 40,
   "metadata": {
    "kernel": "apache_toree_scala"
   },
   "outputs": [],
   "source": [
    "val connectedComponentGraph: Graph[VertexId, Int] = graph.connectedComponents()"
   ]
  },
  {
   "cell_type": "code",
   "execution_count": 41,
   "metadata": {
    "kernel": "apache_toree_scala"
   },
   "outputs": [],
   "source": [
    "def sortedConnectedComponents(connectedComponents: Graph[VertexId, _]): Seq[(VertexId, Long)] = {\n",
    "  val componentCounts = connectedComponents.vertices.map(_._2).countByValue\n",
    "  componentCounts.toSeq.sortBy(_._2).reverse\n",
    "}"
   ]
  },
  {
   "cell_type": "code",
   "execution_count": 42,
   "metadata": {
    "kernel": "apache_toree_scala"
   },
   "outputs": [],
   "source": [
    "val componentCounts = sortedConnectedComponents( connectedComponentGraph)"
   ]
  },
  {
   "cell_type": "code",
   "execution_count": 43,
   "metadata": {
    "kernel": "apache_toree_scala"
   },
   "outputs": [
    {
     "data": {
      "text/plain": [
       "1"
      ]
     },
     "execution_count": 43,
     "metadata": {},
     "output_type": "execute_result"
    }
   ],
   "source": [
    "componentCounts.size"
   ]
  },
  {
   "cell_type": "code",
   "execution_count": 44,
   "metadata": {
    "kernel": "apache_toree_scala"
   },
   "outputs": [
    {
     "name": "stdout",
     "output_type": "stream",
     "text": [
      "(1,100199)\n"
     ]
    }
   ],
   "source": [
    "componentCounts.take(10).foreach(println)"
   ]
  },
  {
   "cell_type": "code",
   "execution_count": null,
   "metadata": {
    "kernel": "apache_toree_scala"
   },
   "outputs": [],
   "source": []
  },
  {
   "cell_type": "code",
   "execution_count": null,
   "metadata": {
    "kernel": "apache_toree_scala"
   },
   "outputs": [],
   "source": []
  },
  {
   "cell_type": "code",
   "execution_count": null,
   "metadata": {
    "kernel": "apache_toree_scala"
   },
   "outputs": [],
   "source": []
  }
 ],
 "metadata": {
  "kernelspec": {
   "display_name": "SoS",
   "language": "sos",
   "name": "sos"
  },
  "language_info": {
   "codemirror_mode": "sos",
   "file_extension": ".sos",
   "mimetype": "text/x-sos",
   "name": "sos",
   "nbconvert_exporter": "sos_notebook.converter.SoS_Exporter",
   "pygments_lexer": "sos"
  },
  "sos": {
   "kernels": [
    [
     "apache_toree_pyspark",
     "apache_toree_pyspark",
     "",
     ""
    ],
    [
     "apache_toree_scala",
     "apache_toree_scala",
     "",
     ""
    ]
   ],
   "panel": {
    "displayed": false,
    "height": 0,
    "style": "side"
   },
   "version": "0.9.15.8"
  }
 },
 "nbformat": 4,
 "nbformat_minor": 2
}
