{
 "cells": [
  {
   "cell_type": "code",
   "execution_count": 1,
   "metadata": {},
   "outputs": [],
   "source": [
    "import pickle\n",
    "import seaborn as sns\n",
    "import networkx as nx\n",
    "import collections \n",
    "import community\n",
    "import matplotlib.pyplot as plt\n",
    "%matplotlib inline\n",
    "import pandas as pd\n",
    "import numpy as np "
   ]
  },
  {
   "cell_type": "markdown",
   "metadata": {},
   "source": [
    "# Source des données \n",
    "\n",
    "http://socialcomputing.asu.edu/datasets/Friendster\n",
    "\n",
    "| Number of Nodes |Number of Edges  |Missing Values? |\n",
    "|------|------|------|\n",
    "|100199 |14067887|no|\n",
    "\n",
    "\n",
    "**Source:**\n",
    "\n",
    "N/A\n",
    "\n",
    "\n",
    "**Data Set Information:**\n",
    "\n",
    "2 files are included:\n",
    "\n",
    "1. nodes.csv\n",
    "-- it's the file of all the users. This file works as a dictionary of all the users in this data set. It's useful for fast reference. It contains\n",
    "all the node ids used in the dataset\n",
    "\n",
    "2. edges.csv\n",
    "-- this is the friendship network among the users. The users's friends are represented using edges. Here is an example. 1,2 This means user with id \"1\" is friend with user id \"2\".\n",
    "\n",
    "\n",
    "**Attribute Information:**\n",
    "\n",
    "Friendster is a social networking website.The service allows users to contact other members, maintain those contacts, and share online content and media with those contacts. \n",
    "This is the data set crawled by Stephen Booher (stephen.booher@asu.edu) on Nov, 2010 from Friendster. \n",
    "This contains the friendship network crawled. For easier understanding, all the contents are organized in CSV file format.\n",
    "\n",
    "__Basic statistics__\n",
    "\n",
    "Number of users : 100,199\n",
    "Number of friendship pairs: 14,067,887"
   ]
  },
  {
   "cell_type": "markdown",
   "metadata": {},
   "source": [
    "# Découvertes des données"
   ]
  },
  {
   "cell_type": "markdown",
   "metadata": {},
   "source": [
    "- Lecture des fichiers téléchargés"
   ]
  },
  {
   "cell_type": "code",
   "execution_count": 3,
   "metadata": {},
   "outputs": [],
   "source": [
    "#Lecture du fichier des liens\n",
    "df_edges = pd.read_csv(\"/home/pb19121/datagraphx/edges_sans_boucle.csv\",sep =',',header = None)\n",
    "df_edges.columns = ['FROM', 'TO']"
   ]
  },
  {
   "cell_type": "code",
   "execution_count": 4,
   "metadata": {},
   "outputs": [],
   "source": [
    "df_edges.to_csv('/home/pb19121/datagraphx/friendsterallfollowers.txt', sep =  ' ',index = False, header= False)"
   ]
  },
  {
   "cell_type": "code",
   "execution_count": 107,
   "metadata": {},
   "outputs": [
    {
     "name": "stdout",
     "output_type": "stream",
     "text": [
      "<class 'pandas.core.frame.DataFrame'>\n",
      "RangeIndex: 14067887 entries, 0 to 14067886\n",
      "Data columns (total 2 columns):\n",
      "FROM    int64\n",
      "TO      int64\n",
      "dtypes: int64(2)\n",
      "memory usage: 214.7 MB\n"
     ]
    }
   ],
   "source": [
    "df_edges.info()"
   ]
  },
  {
   "cell_type": "code",
   "execution_count": 12,
   "metadata": {
    "collapsed": true
   },
   "outputs": [
    {
     "data": {
      "text/html": [
       "<div>\n",
       "<style scoped>\n",
       "    .dataframe tbody tr th:only-of-type {\n",
       "        vertical-align: middle;\n",
       "    }\n",
       "\n",
       "    .dataframe tbody tr th {\n",
       "        vertical-align: top;\n",
       "    }\n",
       "\n",
       "    .dataframe thead th {\n",
       "        text-align: right;\n",
       "    }\n",
       "</style>\n",
       "<table border=\"1\" class=\"dataframe\">\n",
       "  <thead>\n",
       "    <tr style=\"text-align: right;\">\n",
       "      <th></th>\n",
       "      <th>FROM</th>\n",
       "      <th>TO</th>\n",
       "    </tr>\n",
       "  </thead>\n",
       "  <tbody>\n",
       "    <tr>\n",
       "      <th>0</th>\n",
       "      <td>151838</td>\n",
       "      <td>317823</td>\n",
       "    </tr>\n",
       "    <tr>\n",
       "      <th>1</th>\n",
       "      <td>151838</td>\n",
       "      <td>91631</td>\n",
       "    </tr>\n",
       "    <tr>\n",
       "      <th>2</th>\n",
       "      <td>151838</td>\n",
       "      <td>91943</td>\n",
       "    </tr>\n",
       "    <tr>\n",
       "      <th>3</th>\n",
       "      <td>151838</td>\n",
       "      <td>92060</td>\n",
       "    </tr>\n",
       "    <tr>\n",
       "      <th>4</th>\n",
       "      <td>151838</td>\n",
       "      <td>92073</td>\n",
       "    </tr>\n",
       "  </tbody>\n",
       "</table>\n",
       "</div>"
      ],
      "text/plain": [
       "     FROM      TO\n",
       "0  151838  317823\n",
       "1  151838   91631\n",
       "2  151838   91943\n",
       "3  151838   92060\n",
       "4  151838   92073"
      ]
     },
     "execution_count": 12,
     "metadata": {},
     "output_type": "execute_result"
    }
   ],
   "source": [
    "df_edges.head(5)"
   ]
  },
  {
   "cell_type": "code",
   "execution_count": 6,
   "metadata": {},
   "outputs": [],
   "source": [
    "#Lecture du fichier des noeuds\n",
    "df_nodes = pd.read_csv(\"/home/pb19121/mydata/nodes.csv\",header = None)\n",
    "df_nodes.columns = ['NODE']"
   ]
  },
  {
   "cell_type": "code",
   "execution_count": 9,
   "metadata": {},
   "outputs": [],
   "source": [
    "#Lecture du fichier des noeuds\n",
    "df_nodes_att = pd.read_csv(\"/home/pb19121/datagraphx/WITH_ATT_NODES.csv\",header = None)\n",
    "df_nodes_att.columns = ['Node','name','Present']"
   ]
  },
  {
   "cell_type": "code",
   "execution_count": 11,
   "metadata": {
    "collapsed": true
   },
   "outputs": [
    {
     "name": "stdout",
     "output_type": "stream",
     "text": [
      "<class 'pandas.core.frame.DataFrame'>\n",
      "RangeIndex: 100199 entries, 0 to 100198\n",
      "Data columns (total 3 columns):\n",
      "Node       100199 non-null int64\n",
      "name       100199 non-null int64\n",
      "Present    100199 non-null object\n",
      "dtypes: int64(2), object(1)\n",
      "memory usage: 2.3+ MB\n"
     ]
    }
   ],
   "source": [
    "df_nodes_att.info()"
   ]
  },
  {
   "cell_type": "code",
   "execution_count": 10,
   "metadata": {
    "collapsed": true
   },
   "outputs": [
    {
     "data": {
      "text/html": [
       "<div>\n",
       "<style scoped>\n",
       "    .dataframe tbody tr th:only-of-type {\n",
       "        vertical-align: middle;\n",
       "    }\n",
       "\n",
       "    .dataframe tbody tr th {\n",
       "        vertical-align: top;\n",
       "    }\n",
       "\n",
       "    .dataframe thead th {\n",
       "        text-align: right;\n",
       "    }\n",
       "</style>\n",
       "<table border=\"1\" class=\"dataframe\">\n",
       "  <thead>\n",
       "    <tr style=\"text-align: right;\">\n",
       "      <th></th>\n",
       "      <th>Node</th>\n",
       "      <th>name</th>\n",
       "      <th>Present</th>\n",
       "    </tr>\n",
       "  </thead>\n",
       "  <tbody>\n",
       "    <tr>\n",
       "      <th>0</th>\n",
       "      <td>87</td>\n",
       "      <td>87</td>\n",
       "      <td>O</td>\n",
       "    </tr>\n",
       "    <tr>\n",
       "      <th>1</th>\n",
       "      <td>115</td>\n",
       "      <td>115</td>\n",
       "      <td>O</td>\n",
       "    </tr>\n",
       "    <tr>\n",
       "      <th>2</th>\n",
       "      <td>139</td>\n",
       "      <td>139</td>\n",
       "      <td>O</td>\n",
       "    </tr>\n",
       "    <tr>\n",
       "      <th>3</th>\n",
       "      <td>270</td>\n",
       "      <td>270</td>\n",
       "      <td>O</td>\n",
       "    </tr>\n",
       "    <tr>\n",
       "      <th>4</th>\n",
       "      <td>426</td>\n",
       "      <td>426</td>\n",
       "      <td>O</td>\n",
       "    </tr>\n",
       "  </tbody>\n",
       "</table>\n",
       "</div>"
      ],
      "text/plain": [
       "   Node  name Present\n",
       "0    87    87       O\n",
       "1   115   115       O\n",
       "2   139   139       O\n",
       "3   270   270       O\n",
       "4   426   426       O"
      ]
     },
     "execution_count": 10,
     "metadata": {},
     "output_type": "execute_result"
    }
   ],
   "source": [
    "df_nodes_att.head(5)"
   ]
  },
  {
   "cell_type": "markdown",
   "metadata": {},
   "source": [
    "- Vérification de l'exhaustivité et l'unicité des noeuds"
   ]
  },
  {
   "cell_type": "code",
   "execution_count": 13,
   "metadata": {
    "collapsed": true
   },
   "outputs": [
    {
     "data": {
      "text/plain": [
       "0    100199\n",
       "dtype: int64"
      ]
     },
     "execution_count": 13,
     "metadata": {},
     "output_type": "execute_result"
    }
   ],
   "source": [
    "pd.DataFrame(df_nodes.NODE.unique()).count()"
   ]
  },
  {
   "cell_type": "code",
   "execution_count": null,
   "metadata": {},
   "outputs": [],
   "source": [
    "df_TO =pd.DataFrame(df_edges.TO.unique())\n",
    "df_TO.columns = ['NODE']\n",
    "df_FROM = pd.DataFrame(df_edges.FROM.unique())\n",
    "df_FROM.columns = ['NODE']\n",
    "print(\"Sommets source :\\n\")\n",
    "print(df_FROM.info())\n",
    "print(\"Sommets cible : \\n\") \n",
    "print(df_TO.info())\n",
    "print(df_FROM.head(5) ,\"\\n\", df_TO.head(5))"
   ]
  },
  {
   "cell_type": "code",
   "execution_count": 15,
   "metadata": {
    "collapsed": true
   },
   "outputs": [
    {
     "name": "stdout",
     "output_type": "stream",
     "text": [
      "<class 'pandas.core.frame.DataFrame'>\n",
      "RangeIndex: 5689497 entries, 0 to 5689496\n",
      "Data columns (total 1 columns):\n",
      "NODE    int64\n",
      "dtypes: int64(1)\n",
      "memory usage: 43.4 MB\n"
     ]
    }
   ],
   "source": [
    "frames = [df_FROM, df_TO, df_nodes]\n",
    "df_union_nodes =pd.concat(frames)\n",
    "df_union_nodes.count()\n",
    "pd.DataFrame(df_union_nodes.NODE.unique()).count()"
   ]
  },
  {
   "cell_type": "markdown",
   "metadata": {},
   "source": [
    "> **Remarque #1** Tous les noeuds ne figurent pas dans le dictionnaire _\"nodes\"_"
   ]
  },
  {
   "cell_type": "code",
   "execution_count": 33,
   "metadata": {},
   "outputs": [],
   "source": [
    "liste = df_nodes.NODE"
   ]
  },
  {
   "cell_type": "markdown",
   "metadata": {},
   "source": [
    "- Suppression des arretes dont les noeuds sont absents du fichiers nodes.csv"
   ]
  },
  {
   "cell_type": "code",
   "execution_count": null,
   "metadata": {},
   "outputs": [],
   "source": [
    "df_edges_isNOTnode = pd.DataFrame(columns = ['FROM', 'TO'])"
   ]
  },
  {
   "cell_type": "code",
   "execution_count": 42,
   "metadata": {},
   "outputs": [],
   "source": [
    "df_edges_isNOTnode = df_edges[np.logical_not(df_edges['FROM'].isin(liste) )&(df_edges['TO'].isin(liste))]"
   ]
  },
  {
   "cell_type": "code",
   "execution_count": 108,
   "metadata": {
    "collapsed": true
   },
   "outputs": [
    {
     "name": "stdout",
     "output_type": "stream",
     "text": [
      "<class 'pandas.core.frame.DataFrame'>\n",
      "Int64Index: 397984 entries, 1 to 14067794\n",
      "Data columns (total 2 columns):\n",
      "FROM    397984 non-null int64\n",
      "TO      397984 non-null int64\n",
      "dtypes: int64(2)\n",
      "memory usage: 9.1 MB\n"
     ]
    }
   ],
   "source": [
    "df_edges_isNOTnode.info()"
   ]
  },
  {
   "cell_type": "code",
   "execution_count": 34,
   "metadata": {},
   "outputs": [],
   "source": [
    "df_edges_isnode = pd.DataFrame(columns = ['FROM', 'TO'])"
   ]
  },
  {
   "cell_type": "code",
   "execution_count": 35,
   "metadata": {},
   "outputs": [],
   "source": [
    "df_edges_isnode = df_edges[(df_edges['FROM'].isin(liste) )& (df_edges['TO'].isin(liste))]"
   ]
  },
  {
   "cell_type": "code",
   "execution_count": 109,
   "metadata": {
    "collapsed": true
   },
   "outputs": [
    {
     "name": "stdout",
     "output_type": "stream",
     "text": [
      "<class 'pandas.core.frame.DataFrame'>\n",
      "Int64Index: 981920 entries, 90 to 14067886\n",
      "Data columns (total 2 columns):\n",
      "FROM    981920 non-null int64\n",
      "TO      981920 non-null int64\n",
      "dtypes: int64(2)\n",
      "memory usage: 22.5 MB\n"
     ]
    }
   ],
   "source": [
    "df_edges_isnode.info()"
   ]
  },
  {
   "cell_type": "markdown",
   "metadata": {},
   "source": [
    "# Ajout d'attributs calculé sur les noeuds"
   ]
  },
  {
   "cell_type": "code",
   "execution_count": 114,
   "metadata": {},
   "outputs": [],
   "source": [
    "import pickle\n",
    "import seaborn as sns\n",
    "import networkx as nx\n",
    "import collections \n",
    "import community\n",
    "import matplotlib.pyplot as plt\n",
    "%matplotlib inline\n",
    "import pandas as pd\n",
    "import numpy"
   ]
  },
  {
   "cell_type": "code",
   "execution_count": 199,
   "metadata": {},
   "outputs": [],
   "source": [
    "G_full = nx.Graph()"
   ]
  },
  {
   "cell_type": "code",
   "execution_count": 115,
   "metadata": {},
   "outputs": [],
   "source": [
    "G_isinDict = nx.Graph()"
   ]
  },
  {
   "cell_type": "code",
   "execution_count": 119,
   "metadata": {},
   "outputs": [],
   "source": [
    "G_isNOTinDict = nx.Graph()"
   ]
  },
  {
   "cell_type": "code",
   "execution_count": 116,
   "metadata": {},
   "outputs": [],
   "source": [
    "for  item, row in df_edges_isnode.iterrows():\n",
    "    G_isinDict.add_edge(row['FROM'],row['TO'], weight=1)    "
   ]
  },
  {
   "cell_type": "code",
   "execution_count": 124,
   "metadata": {},
   "outputs": [],
   "source": [
    "for  item, row in df_edges_isNOTnode.iterrows():\n",
    "    G_isNOTinDict.add_edge(row['FROM'],row['TO'], weight=1)    "
   ]
  },
  {
   "cell_type": "code",
   "execution_count": 200,
   "metadata": {},
   "outputs": [],
   "source": [
    "for  item, row in df_edges.iterrows():\n",
    "    G_full.add_edge(row['FROM'],row['TO'], weight=1)    "
   ]
  },
  {
   "cell_type": "code",
   "execution_count": 118,
   "metadata": {},
   "outputs": [],
   "source": [
    "#_SAUVEGARDE DU GRAPHE DANS UN FICHIER\n",
    "nx.write_edgelist(G_isinDict, \"/home/pb19121/mydata/G_isinDict.edgelist\")"
   ]
  },
  {
   "cell_type": "code",
   "execution_count": 222,
   "metadata": {},
   "outputs": [],
   "source": [
    "#_SAUVEGARDE DU GRAPHE DANS UN FICHIER\n",
    "nx.write_edgelist(G_full, \"/home/pb19121/mydata/G_full.edgelist\")"
   ]
  },
  {
   "cell_type": "code",
   "execution_count": 125,
   "metadata": {},
   "outputs": [],
   "source": [
    "#_SAUVEGARDE DU GRAPHE DANS UN FICHIER\n",
    "nx.write_edgelist(G_isNOTinDict, \"/home/pb19121/mydata/G_isNOTinDict.edgelist\")"
   ]
  },
  {
   "cell_type": "code",
   "execution_count": null,
   "metadata": {},
   "outputs": [],
   "source": [
    "#_SAUVEGARDE DU GRAPHE DANS UN FICHIER\n",
    "nx.write_adjlist(G_isinDict, \"/home/pb19121/mydata/G_isinDict.adjlist\")"
   ]
  },
  {
   "cell_type": "code",
   "execution_count": null,
   "metadata": {},
   "outputs": [],
   "source": [
    "#_SAUVEGARDE DU GRAPHE DANS UN FICHIER\n",
    "nx.write_adjlist(G_isNOTinDict, \"/home/pb19121/mydata/G_isNOTinDict.adjlist\")"
   ]
  },
  {
   "cell_type": "code",
   "execution_count": 221,
   "metadata": {},
   "outputs": [],
   "source": [
    "#_SAUVEGARDE DU GRAPHE DANS UN FICHIER\n",
    "nx.write_adjlist(G_full, \"/home/pb19121/mydata/G_full.adjlist\")"
   ]
  },
  {
   "cell_type": "code",
   "execution_count": 122,
   "metadata": {},
   "outputs": [
    {
     "name": "stdout",
     "output_type": "stream",
     "text": [
      "Name: \n",
      "Type: Graph\n",
      "Number of nodes: 100199\n",
      "Number of edges: 981920\n",
      "Average degree:  19.5994\n"
     ]
    }
   ],
   "source": [
    "print(nx.info(G_isinDict))"
   ]
  },
  {
   "cell_type": "code",
   "execution_count": 201,
   "metadata": {},
   "outputs": [
    {
     "name": "stdout",
     "output_type": "stream",
     "text": [
      "Name: \n",
      "Type: Graph\n",
      "Number of nodes: 5689498\n",
      "Number of edges: 14067887\n",
      "Average degree:   4.9452\n"
     ]
    }
   ],
   "source": [
    "print(nx.info(G_full))"
   ]
  },
  {
   "cell_type": "code",
   "execution_count": 127,
   "metadata": {},
   "outputs": [
    {
     "name": "stdout",
     "output_type": "stream",
     "text": [
      "Name: \n",
      "Type: Graph\n",
      "Number of nodes: 139584\n",
      "Number of edges: 1379904\n",
      "Average degree:  19.7717\n"
     ]
    }
   ],
   "source": [
    "print(nx.info(G_isNOTinDict))"
   ]
  },
  {
   "cell_type": "code",
   "execution_count": null,
   "metadata": {},
   "outputs": [],
   "source": []
  },
  {
   "cell_type": "code",
   "execution_count": null,
   "metadata": {},
   "outputs": [],
   "source": []
  },
  {
   "cell_type": "code",
   "execution_count": null,
   "metadata": {},
   "outputs": [],
   "source": []
  },
  {
   "cell_type": "code",
   "execution_count": null,
   "metadata": {},
   "outputs": [],
   "source": []
  },
  {
   "cell_type": "code",
   "execution_count": null,
   "metadata": {},
   "outputs": [],
   "source": []
  },
  {
   "cell_type": "markdown",
   "metadata": {},
   "source": [
    "# Ajout d'attributs"
   ]
  },
  {
   "cell_type": "code",
   "execution_count": 128,
   "metadata": {},
   "outputs": [],
   "source": [
    "# Calcul du degres des noeuds (graphe non orienté)\n",
    "att_deg = G_isinDict.degree()\n",
    "nx.set_node_attributes(G_isinDict, 'degres', att_deg)"
   ]
  },
  {
   "cell_type": "code",
   "execution_count": 129,
   "metadata": {},
   "outputs": [],
   "source": [
    "# Calcul du degres des noeuds (graphe non orienté)\n",
    "att_deg = G_isNOTinDict.degree()\n",
    "nx.set_node_attributes(G_isNOTinDict, 'degres', att_deg)"
   ]
  },
  {
   "cell_type": "code",
   "execution_count": 134,
   "metadata": {},
   "outputs": [],
   "source": [
    "att_cluster = nx.clustering(G_isNOTinDict)"
   ]
  },
  {
   "cell_type": "code",
   "execution_count": 142,
   "metadata": {},
   "outputs": [
    {
     "data": {
      "text/plain": [
       "networkx.classes.reportviews.DegreeView"
      ]
     },
     "execution_count": 142,
     "metadata": {},
     "output_type": "execute_result"
    }
   ],
   "source": [
    "type(att_deg)"
   ]
  },
  {
   "cell_type": "code",
   "execution_count": null,
   "metadata": {},
   "outputs": [],
   "source": [
    "nodeliste = G.nodes().to"
   ]
  },
  {
   "cell_type": "markdown",
   "metadata": {},
   "source": [
    "# Preparation des données Graphx"
   ]
  },
  {
   "cell_type": "code",
   "execution_count": 45,
   "metadata": {},
   "outputs": [],
   "source": [
    "df_nodes_users = pd.DataFrame(columns = ['USERS'])"
   ]
  },
  {
   "cell_type": "code",
   "execution_count": 46,
   "metadata": {},
   "outputs": [],
   "source": [
    "df_nodes_users[\"USERS\"] = df_nodes.apply( lambda row :( str(row[\"NODE\"])+\",N\"+str(row[\"NODE\"])+\",n\"+str(row[\"NODE\"])) , axis = 1)"
   ]
  },
  {
   "cell_type": "code",
   "execution_count": 47,
   "metadata": {
    "collapsed": true
   },
   "outputs": [
    {
     "data": {
      "text/html": [
       "<div>\n",
       "<style scoped>\n",
       "    .dataframe tbody tr th:only-of-type {\n",
       "        vertical-align: middle;\n",
       "    }\n",
       "\n",
       "    .dataframe tbody tr th {\n",
       "        vertical-align: top;\n",
       "    }\n",
       "\n",
       "    .dataframe thead th {\n",
       "        text-align: right;\n",
       "    }\n",
       "</style>\n",
       "<table border=\"1\" class=\"dataframe\">\n",
       "  <thead>\n",
       "    <tr style=\"text-align: right;\">\n",
       "      <th></th>\n",
       "      <th>USERS</th>\n",
       "    </tr>\n",
       "  </thead>\n",
       "  <tbody>\n",
       "    <tr>\n",
       "      <th>0</th>\n",
       "      <td>1,N1,n1</td>\n",
       "    </tr>\n",
       "    <tr>\n",
       "      <th>1</th>\n",
       "      <td>2,N2,n2</td>\n",
       "    </tr>\n",
       "    <tr>\n",
       "      <th>2</th>\n",
       "      <td>3,N3,n3</td>\n",
       "    </tr>\n",
       "    <tr>\n",
       "      <th>3</th>\n",
       "      <td>4,N4,n4</td>\n",
       "    </tr>\n",
       "    <tr>\n",
       "      <th>4</th>\n",
       "      <td>5,N5,n5</td>\n",
       "    </tr>\n",
       "    <tr>\n",
       "      <th>5</th>\n",
       "      <td>7,N7,n7</td>\n",
       "    </tr>\n",
       "    <tr>\n",
       "      <th>6</th>\n",
       "      <td>11,N11,n11</td>\n",
       "    </tr>\n",
       "    <tr>\n",
       "      <th>7</th>\n",
       "      <td>12,N12,n12</td>\n",
       "    </tr>\n",
       "    <tr>\n",
       "      <th>8</th>\n",
       "      <td>13,N13,n13</td>\n",
       "    </tr>\n",
       "    <tr>\n",
       "      <th>9</th>\n",
       "      <td>14,N14,n14</td>\n",
       "    </tr>\n",
       "  </tbody>\n",
       "</table>\n",
       "</div>"
      ],
      "text/plain": [
       "        USERS\n",
       "0     1,N1,n1\n",
       "1     2,N2,n2\n",
       "2     3,N3,n3\n",
       "3     4,N4,n4\n",
       "4     5,N5,n5\n",
       "5     7,N7,n7\n",
       "6  11,N11,n11\n",
       "7  12,N12,n12\n",
       "8  13,N13,n13\n",
       "9  14,N14,n14"
      ]
     },
     "execution_count": 47,
     "metadata": {},
     "output_type": "execute_result"
    }
   ],
   "source": [
    "df_nodes_users.head(10)"
   ]
  },
  {
   "cell_type": "code",
   "execution_count": 30,
   "metadata": {},
   "outputs": [],
   "source": [
    "df_nodes_users.drop([\"NODE\"], axis = 1, inplace = True)"
   ]
  },
  {
   "cell_type": "code",
   "execution_count": 106,
   "metadata": {},
   "outputs": [],
   "source": [
    "df_nodes_users.to_csv('/home/pb19121/datagraphx/friendsterusers.txt', sep =  ' ',index = False, header= False)"
   ]
  },
  {
   "cell_type": "code",
   "execution_count": 123,
   "metadata": {},
   "outputs": [],
   "source": [
    "df_union_nodes.to_csv('/home/pb19121/datagraphx/friendsterallusers.txt', sep =  ' ',index = False, header= False)"
   ]
  },
  {
   "cell_type": "code",
   "execution_count": 108,
   "metadata": {},
   "outputs": [],
   "source": [
    "df_edges_isnode.reindex(['TO', 'FROM'], axis=1).to_csv('/home/pb19121/datagraphx/friendsterfollowersReverse.txt', sep =  ' ',index = False, header= False)"
   ]
  },
  {
   "cell_type": "code",
   "execution_count": 108,
   "metadata": {},
   "outputs": [],
   "source": [
    "df_edges_isnode.to_csv('/home/pb19121/datagraphx/friendsterfollowers.txt', sep =  ' ',index = False, header= False)"
   ]
  },
  {
   "cell_type": "code",
   "execution_count": 124,
   "metadata": {},
   "outputs": [],
   "source": [
    "df_edges.reindex(['TO', 'FROM'], axis=1).to_csv('/home/pb19121/datagraphx/friendsterallfollowers.txt', sep =  ' ',index = False, header= False)"
   ]
  },
  {
   "cell_type": "code",
   "execution_count": null,
   "metadata": {},
   "outputs": [],
   "source": []
  }
 ],
 "metadata": {
  "kernelspec": {
   "display_name": "Python 3",
   "language": "python",
   "name": "python3"
  },
  "language_info": {
   "codemirror_mode": {
    "name": "ipython",
    "version": 3
   },
   "file_extension": ".py",
   "mimetype": "text/x-python",
   "name": "python",
   "nbconvert_exporter": "python",
   "pygments_lexer": "ipython3",
   "version": "3.6.5"
  }
 },
 "nbformat": 4,
 "nbformat_minor": 2
}
